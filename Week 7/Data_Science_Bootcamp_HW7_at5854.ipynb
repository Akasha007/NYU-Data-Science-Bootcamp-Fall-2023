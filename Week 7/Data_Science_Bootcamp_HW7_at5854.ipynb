{
 "cells": [
  {
   "cell_type": "markdown",
   "id": "a2888a0d",
   "metadata": {},
   "source": [
    "### 1) Try different thresholds for computing predictions. By default it is 0.5. Use predict_proba function to compute probabilities and then try custom thresholds and see their impact on Accuracy, Precision and Recall"
   ]
  },
  {
   "cell_type": "markdown",
   "id": "958970c7",
   "metadata": {},
   "source": [
    "##### When Threshold is 0.3"
   ]
  },
  {
   "cell_type": "code",
   "execution_count": 37,
   "id": "4642b86a",
   "metadata": {},
   "outputs": [
    {
     "data": {
      "text/html": [
       "<div>\n",
       "<style scoped>\n",
       "    .dataframe tbody tr th:only-of-type {\n",
       "        vertical-align: middle;\n",
       "    }\n",
       "\n",
       "    .dataframe tbody tr th {\n",
       "        vertical-align: top;\n",
       "    }\n",
       "\n",
       "    .dataframe thead th {\n",
       "        text-align: right;\n",
       "    }\n",
       "</style>\n",
       "<table border=\"1\" class=\"dataframe\">\n",
       "  <thead>\n",
       "    <tr style=\"text-align: right;\">\n",
       "      <th></th>\n",
       "      <th>RI</th>\n",
       "      <th>Na</th>\n",
       "      <th>Mg</th>\n",
       "      <th>Al</th>\n",
       "      <th>Si</th>\n",
       "      <th>K</th>\n",
       "      <th>Ca</th>\n",
       "      <th>Ba</th>\n",
       "      <th>Fe</th>\n",
       "      <th>Type</th>\n",
       "    </tr>\n",
       "  </thead>\n",
       "  <tbody>\n",
       "    <tr>\n",
       "      <th>0</th>\n",
       "      <td>1.52101</td>\n",
       "      <td>13.64</td>\n",
       "      <td>4.49</td>\n",
       "      <td>1.10</td>\n",
       "      <td>71.78</td>\n",
       "      <td>0.06</td>\n",
       "      <td>8.75</td>\n",
       "      <td>0.0</td>\n",
       "      <td>0.0</td>\n",
       "      <td>1</td>\n",
       "    </tr>\n",
       "    <tr>\n",
       "      <th>1</th>\n",
       "      <td>1.51761</td>\n",
       "      <td>13.89</td>\n",
       "      <td>3.60</td>\n",
       "      <td>1.36</td>\n",
       "      <td>72.73</td>\n",
       "      <td>0.48</td>\n",
       "      <td>7.83</td>\n",
       "      <td>0.0</td>\n",
       "      <td>0.0</td>\n",
       "      <td>1</td>\n",
       "    </tr>\n",
       "    <tr>\n",
       "      <th>2</th>\n",
       "      <td>1.51618</td>\n",
       "      <td>13.53</td>\n",
       "      <td>3.55</td>\n",
       "      <td>1.54</td>\n",
       "      <td>72.99</td>\n",
       "      <td>0.39</td>\n",
       "      <td>7.78</td>\n",
       "      <td>0.0</td>\n",
       "      <td>0.0</td>\n",
       "      <td>1</td>\n",
       "    </tr>\n",
       "    <tr>\n",
       "      <th>3</th>\n",
       "      <td>1.51766</td>\n",
       "      <td>13.21</td>\n",
       "      <td>3.69</td>\n",
       "      <td>1.29</td>\n",
       "      <td>72.61</td>\n",
       "      <td>0.57</td>\n",
       "      <td>8.22</td>\n",
       "      <td>0.0</td>\n",
       "      <td>0.0</td>\n",
       "      <td>1</td>\n",
       "    </tr>\n",
       "    <tr>\n",
       "      <th>4</th>\n",
       "      <td>1.51742</td>\n",
       "      <td>13.27</td>\n",
       "      <td>3.62</td>\n",
       "      <td>1.24</td>\n",
       "      <td>73.08</td>\n",
       "      <td>0.55</td>\n",
       "      <td>8.07</td>\n",
       "      <td>0.0</td>\n",
       "      <td>0.0</td>\n",
       "      <td>1</td>\n",
       "    </tr>\n",
       "  </tbody>\n",
       "</table>\n",
       "</div>"
      ],
      "text/plain": [
       "        RI     Na    Mg    Al     Si     K    Ca   Ba   Fe  Type\n",
       "0  1.52101  13.64  4.49  1.10  71.78  0.06  8.75  0.0  0.0     1\n",
       "1  1.51761  13.89  3.60  1.36  72.73  0.48  7.83  0.0  0.0     1\n",
       "2  1.51618  13.53  3.55  1.54  72.99  0.39  7.78  0.0  0.0     1\n",
       "3  1.51766  13.21  3.69  1.29  72.61  0.57  8.22  0.0  0.0     1\n",
       "4  1.51742  13.27  3.62  1.24  73.08  0.55  8.07  0.0  0.0     1"
      ]
     },
     "execution_count": 37,
     "metadata": {},
     "output_type": "execute_result"
    }
   ],
   "source": [
    "import pandas as pd\n",
    "import numpy as np\n",
    "import matplotlib.pyplot as plt\n",
    "\n",
    "glass = pd.read_csv(r'C:\\Users\\HP\\Downloads\\glass.csv')\n",
    "glass.head()"
   ]
  },
  {
   "cell_type": "code",
   "execution_count": 38,
   "id": "5b331056",
   "metadata": {},
   "outputs": [
    {
     "data": {
      "text/plain": [
       "0    163\n",
       "1     51\n",
       "Name: household, dtype: int64"
      ]
     },
     "execution_count": 38,
     "metadata": {},
     "output_type": "execute_result"
    }
   ],
   "source": [
    "glass['household'] = glass.Type.map({1:0, 2:0, 3:0, 5:1, 6:1, 7:1})\n",
    "glass.household.value_counts()"
   ]
  },
  {
   "cell_type": "code",
   "execution_count": 39,
   "id": "e75da957",
   "metadata": {},
   "outputs": [],
   "source": [
    "glass.sort_values( by = 'Al', inplace=True)\n",
    "X = np.array(glass.Al).reshape(-1,1)\n",
    "y = glass.household"
   ]
  },
  {
   "cell_type": "code",
   "execution_count": 13,
   "id": "b681508d",
   "metadata": {},
   "outputs": [
    {
     "data": {
      "text/plain": [
       "(array([[3.11517927]]), array([-6.00934605]))"
      ]
     },
     "execution_count": 13,
     "metadata": {},
     "output_type": "execute_result"
    }
   ],
   "source": [
    "from sklearn.linear_model import LogisticRegression\n",
    "\n",
    "logreg = LogisticRegression()\n",
    "logreg.fit(X,y)\n",
    "proba = logreg.predict_proba(X)\n",
    "\n",
    "threshold = 0.3\n",
    "pred = (proba[:,1]>=threshold).astype(int)\n",
    "logreg.coef_, logreg.intercept_"
   ]
  },
  {
   "cell_type": "code",
   "execution_count": 15,
   "id": "fd65f775",
   "metadata": {},
   "outputs": [
    {
     "data": {
      "text/plain": [
       "Text(0, 0.5, 'household')"
      ]
     },
     "execution_count": 15,
     "metadata": {},
     "output_type": "execute_result"
    },
    {
     "data": {
      "image/png": "[encoded data removed]",
      "text/plain": [
       "<Figure size 432x288 with 1 Axes>"
      ]
     },
     "metadata": {
      "needs_background": "light"
     },
     "output_type": "display_data"
    }
   ],
   "source": [
    "glass.sort_values( by = 'Al', inplace=True)\n",
    "\n",
    "plt.scatter(glass.Al, glass.household)\n",
    "plt.plot(glass.Al, pred, color='red')\n",
    "plt.xlabel('al')\n",
    "plt.ylabel('household')"
   ]
  },
  {
   "cell_type": "code",
   "execution_count": 16,
   "id": "e8e6f174",
   "metadata": {},
   "outputs": [],
   "source": [
    "glass['household_pred_prob'] = logreg.predict_proba(X)[:, 1]"
   ]
  },
  {
   "cell_type": "code",
   "execution_count": 17,
   "id": "3b0a869e",
   "metadata": {},
   "outputs": [
    {
     "data": {
      "text/html": [
       "<div>\n",
       "<style scoped>\n",
       "    .dataframe tbody tr th:only-of-type {\n",
       "        vertical-align: middle;\n",
       "    }\n",
       "\n",
       "    .dataframe tbody tr th {\n",
       "        vertical-align: top;\n",
       "    }\n",
       "\n",
       "    .dataframe thead th {\n",
       "        text-align: right;\n",
       "    }\n",
       "</style>\n",
       "<table border=\"1\" class=\"dataframe\">\n",
       "  <thead>\n",
       "    <tr style=\"text-align: right;\">\n",
       "      <th></th>\n",
       "      <th>RI</th>\n",
       "      <th>Na</th>\n",
       "      <th>Mg</th>\n",
       "      <th>Al</th>\n",
       "      <th>Si</th>\n",
       "      <th>K</th>\n",
       "      <th>Ca</th>\n",
       "      <th>Ba</th>\n",
       "      <th>Fe</th>\n",
       "      <th>Type</th>\n",
       "      <th>household</th>\n",
       "      <th>household_pred_prob</th>\n",
       "    </tr>\n",
       "  </thead>\n",
       "  <tbody>\n",
       "    <tr>\n",
       "      <th>21</th>\n",
       "      <td>1.51966</td>\n",
       "      <td>14.77</td>\n",
       "      <td>3.75</td>\n",
       "      <td>0.29</td>\n",
       "      <td>72.02</td>\n",
       "      <td>0.03</td>\n",
       "      <td>9.00</td>\n",
       "      <td>0.00</td>\n",
       "      <td>0.00</td>\n",
       "      <td>1</td>\n",
       "      <td>0</td>\n",
       "      <td>0.006024</td>\n",
       "    </tr>\n",
       "    <tr>\n",
       "      <th>184</th>\n",
       "      <td>1.51115</td>\n",
       "      <td>17.38</td>\n",
       "      <td>0.00</td>\n",
       "      <td>0.34</td>\n",
       "      <td>75.41</td>\n",
       "      <td>0.00</td>\n",
       "      <td>6.65</td>\n",
       "      <td>0.00</td>\n",
       "      <td>0.00</td>\n",
       "      <td>6</td>\n",
       "      <td>1</td>\n",
       "      <td>0.007032</td>\n",
       "    </tr>\n",
       "    <tr>\n",
       "      <th>39</th>\n",
       "      <td>1.52213</td>\n",
       "      <td>14.21</td>\n",
       "      <td>3.82</td>\n",
       "      <td>0.47</td>\n",
       "      <td>71.77</td>\n",
       "      <td>0.11</td>\n",
       "      <td>9.57</td>\n",
       "      <td>0.00</td>\n",
       "      <td>0.00</td>\n",
       "      <td>1</td>\n",
       "      <td>0</td>\n",
       "      <td>0.010506</td>\n",
       "    </tr>\n",
       "    <tr>\n",
       "      <th>38</th>\n",
       "      <td>1.52213</td>\n",
       "      <td>14.21</td>\n",
       "      <td>3.82</td>\n",
       "      <td>0.47</td>\n",
       "      <td>71.77</td>\n",
       "      <td>0.11</td>\n",
       "      <td>9.57</td>\n",
       "      <td>0.00</td>\n",
       "      <td>0.00</td>\n",
       "      <td>1</td>\n",
       "      <td>0</td>\n",
       "      <td>0.010506</td>\n",
       "    </tr>\n",
       "    <tr>\n",
       "      <th>50</th>\n",
       "      <td>1.52320</td>\n",
       "      <td>13.72</td>\n",
       "      <td>3.72</td>\n",
       "      <td>0.51</td>\n",
       "      <td>71.75</td>\n",
       "      <td>0.09</td>\n",
       "      <td>10.06</td>\n",
       "      <td>0.00</td>\n",
       "      <td>0.16</td>\n",
       "      <td>1</td>\n",
       "      <td>0</td>\n",
       "      <td>0.011884</td>\n",
       "    </tr>\n",
       "    <tr>\n",
       "      <th>...</th>\n",
       "      <td>...</td>\n",
       "      <td>...</td>\n",
       "      <td>...</td>\n",
       "      <td>...</td>\n",
       "      <td>...</td>\n",
       "      <td>...</td>\n",
       "      <td>...</td>\n",
       "      <td>...</td>\n",
       "      <td>...</td>\n",
       "      <td>...</td>\n",
       "      <td>...</td>\n",
       "      <td>...</td>\n",
       "    </tr>\n",
       "    <tr>\n",
       "      <th>192</th>\n",
       "      <td>1.51623</td>\n",
       "      <td>14.20</td>\n",
       "      <td>0.00</td>\n",
       "      <td>2.79</td>\n",
       "      <td>73.46</td>\n",
       "      <td>0.04</td>\n",
       "      <td>9.04</td>\n",
       "      <td>0.40</td>\n",
       "      <td>0.09</td>\n",
       "      <td>7</td>\n",
       "      <td>1</td>\n",
       "      <td>0.935956</td>\n",
       "    </tr>\n",
       "    <tr>\n",
       "      <th>209</th>\n",
       "      <td>1.51623</td>\n",
       "      <td>14.14</td>\n",
       "      <td>0.00</td>\n",
       "      <td>2.88</td>\n",
       "      <td>72.61</td>\n",
       "      <td>0.08</td>\n",
       "      <td>9.18</td>\n",
       "      <td>1.06</td>\n",
       "      <td>0.00</td>\n",
       "      <td>7</td>\n",
       "      <td>1</td>\n",
       "      <td>0.950845</td>\n",
       "    </tr>\n",
       "    <tr>\n",
       "      <th>172</th>\n",
       "      <td>1.51321</td>\n",
       "      <td>13.00</td>\n",
       "      <td>0.00</td>\n",
       "      <td>3.02</td>\n",
       "      <td>70.70</td>\n",
       "      <td>6.21</td>\n",
       "      <td>6.93</td>\n",
       "      <td>0.00</td>\n",
       "      <td>0.00</td>\n",
       "      <td>5</td>\n",
       "      <td>1</td>\n",
       "      <td>0.967657</td>\n",
       "    </tr>\n",
       "    <tr>\n",
       "      <th>171</th>\n",
       "      <td>1.51316</td>\n",
       "      <td>13.02</td>\n",
       "      <td>0.00</td>\n",
       "      <td>3.04</td>\n",
       "      <td>70.48</td>\n",
       "      <td>6.21</td>\n",
       "      <td>6.96</td>\n",
       "      <td>0.00</td>\n",
       "      <td>0.00</td>\n",
       "      <td>5</td>\n",
       "      <td>1</td>\n",
       "      <td>0.969552</td>\n",
       "    </tr>\n",
       "    <tr>\n",
       "      <th>163</th>\n",
       "      <td>1.51514</td>\n",
       "      <td>14.01</td>\n",
       "      <td>2.68</td>\n",
       "      <td>3.50</td>\n",
       "      <td>69.89</td>\n",
       "      <td>1.68</td>\n",
       "      <td>5.87</td>\n",
       "      <td>2.20</td>\n",
       "      <td>0.00</td>\n",
       "      <td>5</td>\n",
       "      <td>1</td>\n",
       "      <td>0.992563</td>\n",
       "    </tr>\n",
       "  </tbody>\n",
       "</table>\n",
       "<p>214 rows × 12 columns</p>\n",
       "</div>"
      ],
      "text/plain": [
       "          RI     Na    Mg    Al     Si     K     Ca    Ba    Fe  Type  \\\n",
       "21   1.51966  14.77  3.75  0.29  72.02  0.03   9.00  0.00  0.00     1   \n",
       "184  1.51115  17.38  0.00  0.34  75.41  0.00   6.65  0.00  0.00     6   \n",
       "39   1.52213  14.21  3.82  0.47  71.77  0.11   9.57  0.00  0.00     1   \n",
       "38   1.52213  14.21  3.82  0.47  71.77  0.11   9.57  0.00  0.00     1   \n",
       "50   1.52320  13.72  3.72  0.51  71.75  0.09  10.06  0.00  0.16     1   \n",
       "..       ...    ...   ...   ...    ...   ...    ...   ...   ...   ...   \n",
       "192  1.51623  14.20  0.00  2.79  73.46  0.04   9.04  0.40  0.09     7   \n",
       "209  1.51623  14.14  0.00  2.88  72.61  0.08   9.18  1.06  0.00     7   \n",
       "172  1.51321  13.00  0.00  3.02  70.70  6.21   6.93  0.00  0.00     5   \n",
       "171  1.51316  13.02  0.00  3.04  70.48  6.21   6.96  0.00  0.00     5   \n",
       "163  1.51514  14.01  2.68  3.50  69.89  1.68   5.87  2.20  0.00     5   \n",
       "\n",
       "     household  household_pred_prob  \n",
       "21           0             0.006024  \n",
       "184          1             0.007032  \n",
       "39           0             0.010506  \n",
       "38           0             0.010506  \n",
       "50           0             0.011884  \n",
       "..         ...                  ...  \n",
       "192          1             0.935956  \n",
       "209          1             0.950845  \n",
       "172          1             0.967657  \n",
       "171          1             0.969552  \n",
       "163          1             0.992563  \n",
       "\n",
       "[214 rows x 12 columns]"
      ]
     },
     "execution_count": 17,
     "metadata": {},
     "output_type": "execute_result"
    }
   ],
   "source": [
    "glass"
   ]
  },
  {
   "cell_type": "code",
   "execution_count": 18,
   "id": "ec3e8caa",
   "metadata": {},
   "outputs": [
    {
     "data": {
      "text/plain": [
       "Text(0, 0.5, 'household')"
      ]
     },
     "execution_count": 18,
     "metadata": {},
     "output_type": "execute_result"
    },
    {
     "data": {
      "image/png": "[encoded data removed]",
      "text/plain": [
       "<Figure size 432x288 with 1 Axes>"
      ]
     },
     "metadata": {
      "needs_background": "light"
     },
     "output_type": "display_data"
    }
   ],
   "source": [
    "# Plot the predicted probabilities.\n",
    "plt.scatter(glass.Al, glass.household)\n",
    "plt.plot(glass.Al, glass.household_pred_prob, color='red')\n",
    "plt.xlabel('al')\n",
    "plt.ylabel('household')"
   ]
  },
  {
   "cell_type": "code",
   "execution_count": 20,
   "id": "d00480dd",
   "metadata": {},
   "outputs": [
    {
     "name": "stdout",
     "output_type": "stream",
     "text": [
      "0.8644859813084113\n",
      "0.72\n",
      "0.7058823529411765\n"
     ]
    }
   ],
   "source": [
    "from sklearn.metrics import accuracy_score, precision_score, recall_score\n",
    "print(accuracy_score(y_true=y, y_pred=pred))\n",
    "print(precision_score(y_true=y, y_pred=pred))\n",
    "print(recall_score(y,pred))"
   ]
  },
  {
   "cell_type": "markdown",
   "id": "e3c40638",
   "metadata": {},
   "source": [
    "###### When Threshold is 0.65"
   ]
  },
  {
   "cell_type": "code",
   "execution_count": 21,
   "id": "b8e6518c",
   "metadata": {},
   "outputs": [
    {
     "data": {
      "text/plain": [
       "(array([[3.11517927]]), array([-6.00934605]))"
      ]
     },
     "execution_count": 21,
     "metadata": {},
     "output_type": "execute_result"
    }
   ],
   "source": [
    "from sklearn.linear_model import LogisticRegression\n",
    "\n",
    "logreg = LogisticRegression()\n",
    "logreg.fit(X,y)\n",
    "proba = logreg.predict_proba(X)\n",
    "\n",
    "threshold = 0.65\n",
    "pred = (proba[:,1]>=threshold).astype(int)\n",
    "logreg.coef_, logreg.intercept_"
   ]
  },
  {
   "cell_type": "code",
   "execution_count": 22,
   "id": "e3755e04",
   "metadata": {},
   "outputs": [
    {
     "data": {
      "text/plain": [
       "Text(0, 0.5, 'household')"
      ]
     },
     "execution_count": 22,
     "metadata": {},
     "output_type": "execute_result"
    },
    {
     "data": {
      "image/png": "[encoded data removed]",
      "text/plain": [
       "<Figure size 432x288 with 1 Axes>"
      ]
     },
     "metadata": {
      "needs_background": "light"
     },
     "output_type": "display_data"
    }
   ],
   "source": [
    "glass.sort_values( by = 'Al', inplace=True)\n",
    "\n",
    "plt.scatter(glass.Al, glass.household)\n",
    "plt.plot(glass.Al, pred, color='red')\n",
    "plt.xlabel('al')\n",
    "plt.ylabel('household')"
   ]
  },
  {
   "cell_type": "code",
   "execution_count": 23,
   "id": "25a3aed5",
   "metadata": {},
   "outputs": [],
   "source": [
    "glass['household_pred_prob'] = logreg.predict_proba(X)[:, 1]"
   ]
  },
  {
   "cell_type": "code",
   "execution_count": 24,
   "id": "b47b4f6d",
   "metadata": {},
   "outputs": [
    {
     "data": {
      "text/plain": [
       "Text(0, 0.5, 'household')"
      ]
     },
     "execution_count": 24,
     "metadata": {},
     "output_type": "execute_result"
    },
    {
     "data": {
      "image/png": "[encoded data removed]",
      "text/plain": [
       "<Figure size 432x288 with 1 Axes>"
      ]
     },
     "metadata": {
      "needs_background": "light"
     },
     "output_type": "display_data"
    }
   ],
   "source": [
    "# Plot the predicted probabilities.\n",
    "plt.scatter(glass.Al, glass.household)\n",
    "plt.plot(glass.Al, glass.household_pred_prob, color='red')\n",
    "plt.xlabel('al')\n",
    "plt.ylabel('household')"
   ]
  },
  {
   "cell_type": "code",
   "execution_count": 25,
   "id": "9a2f9e0c",
   "metadata": {},
   "outputs": [
    {
     "name": "stdout",
     "output_type": "stream",
     "text": [
      "0.8411214953271028\n",
      "1.0\n",
      "0.3333333333333333\n"
     ]
    }
   ],
   "source": [
    "from sklearn.metrics import accuracy_score, precision_score, recall_score\n",
    "print(accuracy_score(y_true=y, y_pred=pred))\n",
    "print(precision_score(y_true=y, y_pred=pred))\n",
    "print(recall_score(y,pred))"
   ]
  },
  {
   "cell_type": "markdown",
   "id": "e0cf8711",
   "metadata": {},
   "source": [
    "### 2. Do the same analysis for other columns"
   ]
  },
  {
   "cell_type": "markdown",
   "id": "d2133150",
   "metadata": {},
   "source": [
    "#### For NA"
   ]
  },
  {
   "cell_type": "code",
   "execution_count": 30,
   "id": "57115efb",
   "metadata": {},
   "outputs": [],
   "source": [
    "glass.sort_values( by = 'Na', inplace=True)\n",
    "X = np.array(glass.Na).reshape(-1,1)\n",
    "y = glass.household"
   ]
  },
  {
   "cell_type": "code",
   "execution_count": 31,
   "id": "269a0e35",
   "metadata": {},
   "outputs": [
    {
     "data": {
      "text/plain": [
       "(array([[1.55119327]]), array([-22.24455281]))"
      ]
     },
     "execution_count": 31,
     "metadata": {},
     "output_type": "execute_result"
    }
   ],
   "source": [
    "from sklearn.linear_model import LogisticRegression\n",
    "\n",
    "logreg = LogisticRegression()\n",
    "logreg.fit(X,y)\n",
    "pred = logreg.predict(X)\n",
    "logreg.coef_, logreg.intercept_"
   ]
  },
  {
   "cell_type": "code",
   "execution_count": 32,
   "id": "1ecea95c",
   "metadata": {},
   "outputs": [
    {
     "data": {
      "text/plain": [
       "Text(0, 0.5, 'household')"
      ]
     },
     "execution_count": 32,
     "metadata": {},
     "output_type": "execute_result"
    },
    {
     "data": {
      "image/png": "[encoded data removed]",
      "text/plain": [
       "<Figure size 432x288 with 1 Axes>"
      ]
     },
     "metadata": {
      "needs_background": "light"
     },
     "output_type": "display_data"
    }
   ],
   "source": [
    "glass.sort_values( by = 'Na', inplace=True)\n",
    "\n",
    "plt.scatter(glass.Na, glass.household)\n",
    "plt.plot(glass.Na, pred, color='red')\n",
    "plt.xlabel('Na')\n",
    "plt.ylabel('household')"
   ]
  },
  {
   "cell_type": "code",
   "execution_count": 33,
   "id": "d9996d90",
   "metadata": {},
   "outputs": [
    {
     "name": "stdout",
     "output_type": "stream",
     "text": [
      "0.8551401869158879\n",
      "0.8571428571428571\n",
      "0.47058823529411764\n"
     ]
    }
   ],
   "source": [
    "from sklearn.metrics import accuracy_score, precision_score, recall_score\n",
    "print(accuracy_score(y_true=y, y_pred=pred))\n",
    "print(precision_score(y_true=y, y_pred=pred))\n",
    "print(recall_score(y,pred))"
   ]
  },
  {
   "cell_type": "markdown",
   "id": "57bcd9b8",
   "metadata": {},
   "source": [
    "#### For Si"
   ]
  },
  {
   "cell_type": "code",
   "execution_count": 57,
   "id": "55b602df",
   "metadata": {},
   "outputs": [
    {
     "name": "stdout",
     "output_type": "stream",
     "text": [
      "0.7616822429906542\n",
      "0.0\n",
      "0.0\n"
     ]
    },
    {
     "name": "stderr",
     "output_type": "stream",
     "text": [
      "C:\\Users\\HP\\anaconda3\\lib\\site-packages\\sklearn\\metrics\\_classification.py:1248: UndefinedMetricWarning: Precision is ill-defined and being set to 0.0 due to no predicted samples. Use `zero_division` parameter to control this behavior.\n",
      "  _warn_prf(average, modifier, msg_start, len(result))\n"
     ]
    },
    {
     "data": {
      "image/png": "[encoded data removed]",
      "text/plain": [
       "<Figure size 432x288 with 1 Axes>"
      ]
     },
     "metadata": {
      "needs_background": "light"
     },
     "output_type": "display_data"
    }
   ],
   "source": [
    "import pandas as pd\n",
    "import numpy as np\n",
    "import matplotlib.pyplot as plt\n",
    "\n",
    "glass = pd.read_csv(r'C:\\Users\\HP\\Downloads\\glass.csv')\n",
    "\n",
    "glass['household'] = glass.Type.map({1:0, 2:0, 3:0, 5:1, 6:1, 7:1})\n",
    "\n",
    "glass.sort_values(by = 'Si', inplace=True)\n",
    "X = np.array(glass.Si).reshape(-1,1)\n",
    "y = glass.household\n",
    "\n",
    "from sklearn.linear_model import LogisticRegression\n",
    "\n",
    "logreg = LogisticRegression()\n",
    "logreg.fit(X,y)\n",
    "pred = logreg.predict(X)\n",
    "\n",
    "glass.sort_values( by = 'Si', inplace=True)\n",
    "\n",
    "plt.scatter(glass.Si, glass.household)\n",
    "plt.plot(glass.Si, pred, color='red')\n",
    "plt.xlabel('Si')\n",
    "plt.ylabel('household')\n",
    "\n",
    "from sklearn.metrics import accuracy_score, precision_score, recall_score\n",
    "print(accuracy_score(y_true=y, y_pred=pred))\n",
    "print(precision_score(y_true=y, y_pred=pred))\n",
    "print(recall_score(y,pred))"
   ]
  },
  {
   "cell_type": "code",
   "execution_count": 58,
   "id": "4adf0df5",
   "metadata": {},
   "outputs": [
    {
     "data": {
      "text/plain": [
       "Text(0, 0.5, 'household')"
      ]
     },
     "execution_count": 58,
     "metadata": {},
     "output_type": "execute_result"
    },
    {
     "data": {
      "image/png": "[encoded data removed]",
      "text/plain": [
       "<Figure size 432x288 with 1 Axes>"
      ]
     },
     "metadata": {
      "needs_background": "light"
     },
     "output_type": "display_data"
    }
   ],
   "source": [
    "# Plot the predicted probabilities.\n",
    "plt.scatter(glass.Si, glass.household)\n",
    "plt.plot(glass.Si, logreg.predict_proba(X)[:, 1], color='red')\n",
    "plt.xlabel('Si')\n",
    "plt.ylabel('household')"
   ]
  },
  {
   "cell_type": "code",
   "execution_count": 55,
   "id": "37aca9ff",
   "metadata": {},
   "outputs": [
    {
     "data": {
      "text/plain": [
       "array([0.24733894, 0.24710165, 0.24630193, 0.24600618, 0.24550396,\n",
       "       0.24535638, 0.24509088, 0.24470773, 0.24338457, 0.24312052,\n",
       "       0.24309119, 0.24279806, 0.24276876, 0.24276876, 0.2423588 ,\n",
       "       0.242154  , 0.24171555, 0.24162792, 0.24159871, 0.24159871,\n",
       "       0.24156951, 0.24156951, 0.24154031, 0.24151112, 0.24151112,\n",
       "       0.24145273, 0.24145273, 0.24127763, 0.24107345, 0.24104429,\n",
       "       0.24101514, 0.24101514, 0.24092768, 0.24092768, 0.24092768,\n",
       "       0.24086939, 0.24084025, 0.24084025, 0.24078197, 0.24072371,\n",
       "       0.24066545, 0.24066545, 0.24054897, 0.24049074, 0.24037431,\n",
       "       0.24037431, 0.24034521, 0.24034521, 0.24031611, 0.24025792,\n",
       "       0.24025792, 0.24017066, 0.24014157, 0.24008341, 0.24008341,\n",
       "       0.23996712, 0.23993805, 0.23993805, 0.23990899, 0.23985087,\n",
       "       0.23982181, 0.23979275, 0.23979275, 0.23979275, 0.2397637 ,\n",
       "       0.23973465, 0.23961848, 0.23958944, 0.23950234, 0.23947331,\n",
       "       0.23944428, 0.23941526, 0.23938624, 0.23935722, 0.2393282 ,\n",
       "       0.23929919, 0.23924117, 0.23912516, 0.23912516, 0.23912516,\n",
       "       0.23903817, 0.23903817, 0.23903817, 0.23900918, 0.23900918,\n",
       "       0.23898019, 0.23895121, 0.23895121, 0.23895121, 0.23889325,\n",
       "       0.23889325, 0.23886427, 0.23880632, 0.23880632, 0.23880632,\n",
       "       0.23877735, 0.23877735, 0.23874838, 0.23874838, 0.23871942,\n",
       "       0.23871942, 0.23871942, 0.23869045, 0.23869045, 0.23866149,\n",
       "       0.23863253, 0.23860358, 0.23860358, 0.23854567, 0.23854567,\n",
       "       0.23848778, 0.23848778, 0.23845883, 0.23845883, 0.23842989,\n",
       "       0.23842989, 0.23842989, 0.23840095, 0.23840095, 0.23840095,\n",
       "       0.23840095, 0.23837202, 0.23837202, 0.23837202, 0.23834308,\n",
       "       0.23831415, 0.23831415, 0.23822737, 0.23814061, 0.23814061,\n",
       "       0.23814061, 0.23811169, 0.23811169, 0.23811169, 0.23808278,\n",
       "       0.23808278, 0.23808278, 0.23805387, 0.23805387, 0.23802496,\n",
       "       0.23802496, 0.23802496, 0.23802496, 0.23799606, 0.23799606,\n",
       "       0.23796715, 0.23796715, 0.23796715, 0.23793825, 0.23793825,\n",
       "       0.23790936, 0.23790936, 0.23788046, 0.23785157, 0.23782268,\n",
       "       0.23782268, 0.23779379, 0.2377649 , 0.2377649 , 0.2377649 ,\n",
       "       0.23773602, 0.23770714, 0.23770714, 0.23770714, 0.23770714,\n",
       "       0.23767826, 0.23767826, 0.23767826, 0.23767826, 0.23764938,\n",
       "       0.23759164, 0.23756277, 0.23750504, 0.23741846, 0.23741846,\n",
       "       0.2373896 , 0.2373896 , 0.2373896 , 0.2373319 , 0.2373319 ,\n",
       "       0.23730305, 0.23730305, 0.23727421, 0.23724536, 0.23721652,\n",
       "       0.23721652, 0.23718769, 0.23718769, 0.23718769, 0.23718769,\n",
       "       0.23715885, 0.23715885, 0.23713002, 0.23695707, 0.23695707,\n",
       "       0.23687063, 0.23687063, 0.23687063, 0.23678421, 0.23672661,\n",
       "       0.23666902, 0.23661144, 0.23655387, 0.23640998, 0.2362374 ,\n",
       "       0.23597868, 0.23592122, 0.23583504, 0.23566274, 0.23546184,\n",
       "       0.23383036, 0.23354495, 0.23175241, 0.23110039])"
      ]
     },
     "execution_count": 55,
     "metadata": {},
     "output_type": "execute_result"
    }
   ],
   "source": [
    "logreg.predict_proba(X)[:, 1]"
   ]
  },
  {
   "cell_type": "markdown",
   "id": "e2a706c6",
   "metadata": {},
   "source": [
    "This shows that the probability is the same for the entire data making it not a valuable feature"
   ]
  },
  {
   "cell_type": "markdown",
   "id": "ff0b52ae",
   "metadata": {},
   "source": [
    "### 3) Fit a Logistic Regression Model on all features. Remember to preprocess data(eg. normalization and one hot encoding)"
   ]
  },
  {
   "cell_type": "code",
   "execution_count": 59,
   "id": "4b32998b",
   "metadata": {},
   "outputs": [
    {
     "name": "stdout",
     "output_type": "stream",
     "text": [
      "1.0\n",
      "1.0\n",
      "1.0\n"
     ]
    },
    {
     "name": "stderr",
     "output_type": "stream",
     "text": [
      "C:\\Users\\HP\\anaconda3\\lib\\site-packages\\sklearn\\linear_model\\_logistic.py:763: ConvergenceWarning: lbfgs failed to converge (status=1):\n",
      "STOP: TOTAL NO. of ITERATIONS REACHED LIMIT.\n",
      "\n",
      "Increase the number of iterations (max_iter) or scale the data as shown in:\n",
      "    https://scikit-learn.org/stable/modules/preprocessing.html\n",
      "Please also refer to the documentation for alternative solver options:\n",
      "    https://scikit-learn.org/stable/modules/linear_model.html#logistic-regression\n",
      "  n_iter_i = _check_optimize_result(\n"
     ]
    }
   ],
   "source": [
    "import pandas as pd\n",
    "import numpy as np\n",
    "import matplotlib.pyplot as plt\n",
    "\n",
    "glass = pd.read_csv(r'C:\\Users\\HP\\Downloads\\glass.csv')\n",
    "\n",
    "glass['household'] = glass.Type.map({1:0, 2:0, 3:0, 5:1, 6:1, 7:1})\n",
    "\n",
    "glass_new = glass.copy()\n",
    "glass_new = glass_new.drop('household', axis=1)\n",
    "X = glass_new\n",
    "y = glass.household\n",
    "\n",
    "from sklearn.linear_model import LogisticRegression\n",
    "\n",
    "logreg = LogisticRegression()\n",
    "logreg.fit(X,y)\n",
    "pred = logreg.predict(X)\n",
    "\n",
    "from sklearn.metrics import accuracy_score, precision_score, recall_score\n",
    "print(accuracy_score(y_true=y, y_pred=pred))\n",
    "print(precision_score(y_true=y, y_pred=pred))\n",
    "print(recall_score(y,pred))"
   ]
  },
  {
   "cell_type": "code",
   "execution_count": 60,
   "id": "7a542698",
   "metadata": {},
   "outputs": [],
   "source": [
    "import pandas as pd\n",
    "import numpy as np\n",
    "import matplotlib.pyplot as plt\n",
    "\n",
    "glass = pd.read_csv(r'C:\\Users\\HP\\Downloads\\glass.csv')\n",
    "\n",
    "glass['household'] = glass.Type.map({1:0, 2:0, 3:0, 5:1, 6:1, 7:1})"
   ]
  },
  {
   "cell_type": "code",
   "execution_count": 61,
   "id": "e24aee69",
   "metadata": {},
   "outputs": [
    {
     "data": {
      "text/plain": [
       "<bound method NDFrame.describe of           RI     Na    Mg    Al     Si     K    Ca    Ba   Fe  Type  household\n",
       "0    1.52101  13.64  4.49  1.10  71.78  0.06  8.75  0.00  0.0     1          0\n",
       "1    1.51761  13.89  3.60  1.36  72.73  0.48  7.83  0.00  0.0     1          0\n",
       "2    1.51618  13.53  3.55  1.54  72.99  0.39  7.78  0.00  0.0     1          0\n",
       "3    1.51766  13.21  3.69  1.29  72.61  0.57  8.22  0.00  0.0     1          0\n",
       "4    1.51742  13.27  3.62  1.24  73.08  0.55  8.07  0.00  0.0     1          0\n",
       "..       ...    ...   ...   ...    ...   ...   ...   ...  ...   ...        ...\n",
       "209  1.51623  14.14  0.00  2.88  72.61  0.08  9.18  1.06  0.0     7          1\n",
       "210  1.51685  14.92  0.00  1.99  73.06  0.00  8.40  1.59  0.0     7          1\n",
       "211  1.52065  14.36  0.00  2.02  73.42  0.00  8.44  1.64  0.0     7          1\n",
       "212  1.51651  14.38  0.00  1.94  73.61  0.00  8.48  1.57  0.0     7          1\n",
       "213  1.51711  14.23  0.00  2.08  73.36  0.00  8.62  1.67  0.0     7          1\n",
       "\n",
       "[214 rows x 11 columns]>"
      ]
     },
     "execution_count": 61,
     "metadata": {},
     "output_type": "execute_result"
    }
   ],
   "source": [
    "glass.describe\n"
   ]
  },
  {
   "cell_type": "code",
   "execution_count": 63,
   "id": "800b7860",
   "metadata": {},
   "outputs": [
    {
     "name": "stdout",
     "output_type": "stream",
     "text": [
      "<class 'pandas.core.frame.DataFrame'>\n",
      "RangeIndex: 214 entries, 0 to 213\n",
      "Data columns (total 11 columns):\n",
      " #   Column     Non-Null Count  Dtype  \n",
      "---  ------     --------------  -----  \n",
      " 0   RI         214 non-null    float64\n",
      " 1   Na         214 non-null    float64\n",
      " 2   Mg         214 non-null    float64\n",
      " 3   Al         214 non-null    float64\n",
      " 4   Si         214 non-null    float64\n",
      " 5   K          214 non-null    float64\n",
      " 6   Ca         214 non-null    float64\n",
      " 7   Ba         214 non-null    float64\n",
      " 8   Fe         214 non-null    float64\n",
      " 9   Type       214 non-null    int64  \n",
      " 10  household  214 non-null    int64  \n",
      "dtypes: float64(9), int64(2)\n",
      "memory usage: 18.5 KB\n"
     ]
    }
   ],
   "source": [
    "glass.info()"
   ]
  },
  {
   "cell_type": "code",
   "execution_count": 72,
   "id": "f4988b05",
   "metadata": {},
   "outputs": [
    {
     "data": {
      "text/plain": [
       "Pipeline(steps=[('preprocessor',\n",
       "                 ColumnTransformer(transformers=[('num', StandardScaler(),\n",
       "                                                  Index(['RI', 'Na', 'Mg', 'Al', 'Si', 'K', 'Ca', 'Ba', 'Fe', 'Type'], dtype='object'))])),\n",
       "                ('classifier', LogisticRegression())])"
      ]
     },
     "execution_count": 72,
     "metadata": {},
     "output_type": "execute_result"
    }
   ],
   "source": [
    "from sklearn.model_selection import train_test_split\n",
    "from sklearn.preprocessing import StandardScaler, OneHotEncoder\n",
    "from sklearn.compose import ColumnTransformer\n",
    "from sklearn.pipeline import Pipeline\n",
    "from sklearn.linear_model import LogisticRegression\n",
    "\n",
    "X = glass.drop('household', axis=1)\n",
    "y = glass['household']\n",
    "\n",
    "numeric_features = X.select_dtypes(include=['int64', 'float64']).columns\n",
    "\n",
    "preprocessor = ColumnTransformer(\n",
    "    transformers=[\n",
    "        ('num', StandardScaler(), numeric_features)])\n",
    "\n",
    "clf = Pipeline(steps=[('preprocessor', preprocessor),\n",
    "                      ('classifier', LogisticRegression())])\n",
    "\n",
    "X_train, X_test, y_train, y_test = train_test_split(X, y, test_size=0.2, random_state=0)\n",
    "\n",
    "clf.fit(X_train, y_train)"
   ]
  },
  {
   "cell_type": "code",
   "execution_count": 73,
   "id": "0248fdda",
   "metadata": {},
   "outputs": [],
   "source": [
    "y_pred = clf.predict(X_test)\n"
   ]
  },
  {
   "cell_type": "code",
   "execution_count": 74,
   "id": "dc53076f",
   "metadata": {},
   "outputs": [
    {
     "name": "stdout",
     "output_type": "stream",
     "text": [
      "Accuracy:  1.0\n",
      "Precision:  1.0\n",
      "Recall:  1.0\n"
     ]
    }
   ],
   "source": [
    "from sklearn.metrics import accuracy_score, precision_score, recall_score, f1_score\n",
    "\n",
    "print('Accuracy: ', accuracy_score(y_test, y_pred))\n",
    "print('Precision: ', precision_score(y_test, y_pred))\n",
    "print('Recall: ', recall_score(y_test, y_pred))"
   ]
  },
  {
   "cell_type": "code",
   "execution_count": 75,
   "id": "9a94993a",
   "metadata": {},
   "outputs": [
    {
     "data": {
      "text/plain": [
       "array([1, 0, 0, 1, 1, 0, 0, 0, 0, 0, 0, 0, 0, 0, 0, 1, 0, 0, 0, 0, 1, 0,\n",
       "       1, 1, 0, 0, 1, 0, 0, 0, 0, 0, 0, 0, 0, 0, 0, 0, 0, 1, 0, 1, 0],\n",
       "      dtype=int64)"
      ]
     },
     "execution_count": 75,
     "metadata": {},
     "output_type": "execute_result"
    }
   ],
   "source": [
    "y_pred"
   ]
  },
  {
   "cell_type": "code",
   "execution_count": 76,
   "id": "a6db61c6",
   "metadata": {},
   "outputs": [
    {
     "data": {
      "text/plain": [
       "197    1\n",
       "37     0\n",
       "89     0\n",
       "176    1\n",
       "170    1\n",
       "75     0\n",
       "96     0\n",
       "137    0\n",
       "5      0\n",
       "83     0\n",
       "55     0\n",
       "145    0\n",
       "160    0\n",
       "112    0\n",
       "74     0\n",
       "202    1\n",
       "126    0\n",
       "12     0\n",
       "153    0\n",
       "158    0\n",
       "168    1\n",
       "141    0\n",
       "194    1\n",
       "189    1\n",
       "144    0\n",
       "18     0\n",
       "208    1\n",
       "15     0\n",
       "86     0\n",
       "71     0\n",
       "7      0\n",
       "63     0\n",
       "143    0\n",
       "97     0\n",
       "136    0\n",
       "162    0\n",
       "33     0\n",
       "154    0\n",
       "90     0\n",
       "191    1\n",
       "106    0\n",
       "180    1\n",
       "139    0\n",
       "Name: household, dtype: int64"
      ]
     },
     "execution_count": 76,
     "metadata": {},
     "output_type": "execute_result"
    }
   ],
   "source": [
    "y_test"
   ]
  },
  {
   "cell_type": "markdown",
   "id": "9ffbc027",
   "metadata": {},
   "source": [
    "#### 4. Plot ROC Curves for each model\n",
    "\n",
    "lets do this for Aluminium"
   ]
  },
  {
   "cell_type": "code",
   "execution_count": 113,
   "id": "2239a8dd",
   "metadata": {},
   "outputs": [
    {
     "data": {
      "image/png": "[encoded data removed]",
      "text/plain": [
       "<Figure size 432x288 with 1 Axes>"
      ]
     },
     "metadata": {},
     "output_type": "display_data"
    }
   ],
   "source": [
    "import pandas as pd\n",
    "import numpy as np\n",
    "from sklearn.model_selection import train_test_split\n",
    "from sklearn.preprocessing import StandardScaler\n",
    "from sklearn.linear_model import LogisticRegression\n",
    "from sklearn.metrics import roc_curve, auc\n",
    "import matplotlib.pyplot as plt\n",
    "\n",
    "glass = pd.read_csv(r'C:\\Users\\HP\\Downloads\\glass.csv')\n",
    "glass['household'] = glass.Type.map({1:0, 2:0, 3:0, 5:1, 6:1, 7:1})\n",
    "\n",
    "X = glass.drop('household', axis=1)\n",
    "y = glass['household']\n",
    "\n",
    "X_train, X_test, y_train, y_test = train_test_split(X, y, test_size=0.2, random_state=42)\n",
    "\n",
    "scaler = StandardScaler()\n",
    "X_train = scaler.fit_transform(X_train)\n",
    "X_test = scaler.transform(X_test)\n",
    "\n",
    "C_values = [0.001, 0.01, 0.1, 1]\n",
    "\n",
    "plt.figure()\n",
    "\n",
    "for C in C_values:\n",
    "    logreg = LogisticRegression(C=C)\n",
    "    logreg.fit(X_train, y_train)\n",
    "    y_score = logreg.predict_proba(X_test)[:,1]\n",
    "    fpr, tpr, _ = roc_curve(y_test, y_score)\n",
    "    roc_auc = auc(fpr, tpr)\n",
    "    plt.plot(fpr, tpr, label='ROC curve for C={0} (area = {1:0.2f})'.format(C, roc_auc))\n",
    "\n",
    "# Plot the random classifier\n",
    "plt.plot([0, 1], [0, 1], color='navy', linestyle='--')\n",
    "\n",
    "plt.xlim([0.0, 1.0])\n",
    "plt.ylim([0.0, 1.05])\n",
    "plt.xlabel('False Positive Rate')\n",
    "plt.ylabel('True Positive Rate')\n",
    "plt.title('Receiver Operating Characteristic')\n",
    "plt.legend(loc=\"lower right\")\n",
    "plt.show()\n"
   ]
  },
  {
   "cell_type": "markdown",
   "id": "07cc93cc",
   "metadata": {},
   "source": [
    "###### CLUSTERING #########\n",
    "## 1. Repeat the above exercise for different values of k\n",
    " - How do the inertia and silhouette scores change?\n",
    " - What if you don't scale your features?\n",
    " - Is there a 'right' k? Why or why not?\n",
    "\n"
   ]
  },
  {
   "cell_type": "code",
   "execution_count": 84,
   "id": "6264bdf3",
   "metadata": {
    "scrolled": true
   },
   "outputs": [
    {
     "name": "stdout",
     "output_type": "stream",
     "text": [
      "Iris-setosa        50\n",
      "Iris-versicolor    50\n",
      "Iris-virginica     50\n",
      "Name: Name, dtype: int64\n"
     ]
    },
    {
     "data": {
      "image/png": "[encoded data removed]",
      "text/plain": [
       "<Figure size 720x360 with 1 Axes>"
      ]
     },
     "metadata": {},
     "output_type": "display_data"
    },
    {
     "data": {
      "image/png": "[encoded data removed]",
      "text/plain": [
       "<Figure size 720x360 with 1 Axes>"
      ]
     },
     "metadata": {},
     "output_type": "display_data"
    }
   ],
   "source": [
    "%matplotlib inline \n",
    "\n",
    "import pandas as pd\n",
    "import numpy as np\n",
    "from sklearn.metrics import pairwise_distances\n",
    "from sklearn import cluster, datasets, preprocessing, metrics\n",
    "import matplotlib.pyplot as plt\n",
    "import seaborn as sns\n",
    "plt.style.use('fivethirtyeight')\n",
    "\n",
    "# Check out the dataset and our target values\n",
    "df = pd.read_csv(r\"C:\\Users\\HP\\Downloads\\iris.csv\")\n",
    "\n",
    "print(df['Name'].value_counts())\n",
    "df.head(5)\n",
    "\n",
    "cols = df.columns[:-1]\n",
    "X_scaled = preprocessing.MinMaxScaler().fit_transform(df[cols])\n",
    "\n",
    "\n",
    "k_values = [2, 3, 4, 5, 6]\n",
    "\n",
    "inertia_scores = []\n",
    "silhouette_scores = []\n",
    "\n",
    "for k in k_values:\n",
    "    kmeans = cluster.KMeans(n_clusters=k)\n",
    "    kmeans.fit(X_scaled)\n",
    "\n",
    "    inertia_scores.append(kmeans.inertia_)\n",
    "    silhouette_scores.append(metrics.silhouette_score(X_scaled, kmeans.labels_, metric='euclidean'))\n",
    "\n",
    "plt.figure(figsize=(10, 5))\n",
    "plt.plot(k_values, inertia_scores, marker='o')\n",
    "plt.title('Inertia scores for different k values')\n",
    "plt.xlabel('k')\n",
    "plt.ylabel('Inertia score')\n",
    "plt.grid(True)\n",
    "plt.show()\n",
    "\n",
    "plt.figure(figsize=(10, 5))\n",
    "plt.plot(k_values, silhouette_scores, marker='o')\n",
    "plt.title('Silhouette scores for different k values')\n",
    "plt.xlabel('k')\n",
    "plt.ylabel('Silhouette score')\n",
    "plt.grid(True)\n",
    "plt.show()\n"
   ]
  },
  {
   "cell_type": "markdown",
   "id": "da386183",
   "metadata": {},
   "source": [
    "How do the inertia and silhouette scores change?"
   ]
  },
  {
   "cell_type": "markdown",
   "id": "0382768b",
   "metadata": {},
   "source": [
    "- According to the graph, the inertia score decreases as the number of clusters (k) increases. This is expected because inertia is the sum of squared distances of samples to their closest cluster center. As the number of clusters increases, the distance of each point to its assigned cluster center tends to decrease, leading to a lower inertia.\n",
    "\n",
    "- According to the graph, the silhouette score decreases as the number of clusters (k) increases. This is because the silhouette score is a measure of how similar an object is to its own cluster compared to other clusters. A high silhouette score indicates that the object is well matched to its own cluster and poorly matched to neighboring clusters. As the number of clusters increases, each cluster becomes less distinct, leading to a lower silhouette score."
   ]
  },
  {
   "cell_type": "markdown",
   "id": "68063ea7",
   "metadata": {},
   "source": [
    "What if you don't scale your features?\n",
    "\n",
    "\n",
    "- Scaling is critical in algorithms that are distance based and require Euclidean Distance, like KMeans. If scaling is not performed, features with high magnitudes will weigh in a lot more in the distance calculations than features with low magnitudes."
   ]
  },
  {
   "cell_type": "markdown",
   "id": "67dc7e8e",
   "metadata": {},
   "source": [
    "Is there a 'right' k? Why or why not?\n",
    "\n",
    "- There isn’t a definitive ‘right’ value for k. It often depends on the data and the problem at hand. A common method is the Elbow Method, where the explained variation as a function of the number of clusters is plotted and the elbow point is considered as the appropriate number of clusters."
   ]
  },
  {
   "cell_type": "markdown",
   "id": "9abc8bfc",
   "metadata": {},
   "source": [
    "## 2. Repeat the following exercise for food nutrients dataset"
   ]
  },
  {
   "cell_type": "code",
   "execution_count": 112,
   "id": "1ab5ef67",
   "metadata": {},
   "outputs": [
    {
     "name": "stdout",
     "output_type": "stream",
     "text": [
      "           Name  Energy  Protein  Fat  Calcium  Iron\n",
      "0  Braised beef     340       20   28        9   2.6\n",
      "1     Hamburger     245       21   17        9   2.7\n",
      "2    Roast beef     420       15   39        7   2.0\n",
      "3     Beefsteak     375       19   32        9   2.6\n",
      "4   Canned beef     180       22   10       17   3.7\n"
     ]
    },
    {
     "data": {
      "image/png": "[encoded data removed]",
      "text/plain": [
       "<Figure size 720x360 with 1 Axes>"
      ]
     },
     "metadata": {},
     "output_type": "display_data"
    },
    {
     "data": {
      "image/png": "[encoded data removed]",
      "text/plain": [
       "<Figure size 720x360 with 1 Axes>"
      ]
     },
     "metadata": {},
     "output_type": "display_data"
    }
   ],
   "source": [
    "import pandas as pd\n",
    "\n",
    "df = pd.read_csv(\"C:/Users/HP/Downloads/nutrients.txt\", sep=\"\\s+\")\n",
    "\n",
    "print(df.head())\n",
    "\n",
    "cols = df.columns[1:]\n",
    "\n",
    "\n",
    "\n",
    "X_scaled = preprocessing.MinMaxScaler().fit_transform(df[cols])\n",
    "\n",
    "k_values = [2, 3, 4, 5, 6]\n",
    "\n",
    "inertia_scores = []\n",
    "silhouette_scores = []\n",
    "\n",
    "for k in k_values:\n",
    "    kmeans = cluster.KMeans(n_clusters=k)\n",
    "    kmeans.fit(X_scaled)\n",
    "\n",
    "    inertia_scores.append(kmeans.inertia_)\n",
    "    silhouette_scores.append(metrics.silhouette_score(X_scaled, kmeans.labels_, metric='euclidean'))\n",
    "\n",
    "plt.figure(figsize=(10, 5))\n",
    "plt.plot(k_values, inertia_scores, marker='o')\n",
    "plt.title('Inertia scores for different k values')\n",
    "plt.xlabel('k')\n",
    "plt.ylabel('Inertia score')\n",
    "plt.grid(True)\n",
    "plt.show()\n",
    "\n",
    "plt.figure(figsize=(10, 5))\n",
    "plt.plot(k_values, silhouette_scores, marker='o')\n",
    "plt.title('Silhouette scores for different k values')\n",
    "plt.xlabel('k')\n",
    "plt.ylabel('Silhouette score')\n",
    "plt.grid(True)\n",
    "plt.show()\n"
   ]
  }
 ],
 "metadata": {
  "kernelspec": {
   "display_name": "Python 3 (ipykernel)",
   "language": "python",
   "name": "python3"
  },
  "language_info": {
   "codemirror_mode": {
    "name": "ipython",
    "version": 3
   },
   "file_extension": ".py",
   "mimetype": "text/x-python",
   "name": "python",
   "nbconvert_exporter": "python",
   "pygments_lexer": "ipython3",
   "version": "3.9.7"
  }
 },
 "nbformat": 4,
 "nbformat_minor": 5
}
