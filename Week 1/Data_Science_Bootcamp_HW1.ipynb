{
 "cells": [
  {
   "cell_type": "markdown",
   "id": "5f324e62",
   "metadata": {},
   "source": [
    "## Data Science Bootcamp Homework 1"
   ]
  },
  {
   "cell_type": "markdown",
   "id": "aaca195c",
   "metadata": {},
   "source": [
    "### 1)Display Fibonacci Series upto 10 terms"
   ]
  },
  {
   "cell_type": "code",
   "execution_count": 1,
   "id": "86da052e",
   "metadata": {},
   "outputs": [
    {
     "name": "stdout",
     "output_type": "stream",
     "text": [
      "1 1 2 3 5 8 13 21 34 55 "
     ]
    }
   ],
   "source": [
    "def fib(n):\n",
    "    if n==1 or n==2:\n",
    "        return 1\n",
    "    elif n == 0:\n",
    "        return 0\n",
    "    else:\n",
    "        return fib(n-1) + fib(n-2)\n",
    "    \n",
    "for i in range(1,11):\n",
    "    print(fib(i), end = \" \")"
   ]
  },
  {
   "cell_type": "markdown",
   "id": "511d0445",
   "metadata": {},
   "source": [
    "### 2) Display numbers at the odd indices of a list"
   ]
  },
  {
   "cell_type": "code",
   "execution_count": 6,
   "id": "a7156202",
   "metadata": {},
   "outputs": [
    {
     "name": "stdout",
     "output_type": "stream",
     "text": [
      "1 3 5 7 9 "
     ]
    }
   ],
   "source": [
    "L = [0, 1, 2, 3, 4, 5, 6, 7, 8, 9, 10]\n",
    "for i in range(1,len(L),2):\n",
    "    print(L[i], end=\" \")"
   ]
  },
  {
   "cell_type": "markdown",
   "id": "13bc0b94",
   "metadata": {},
   "source": [
    "### 3) Print a list in reverse order"
   ]
  },
  {
   "cell_type": "code",
   "execution_count": 11,
   "id": "2cf2861f",
   "metadata": {},
   "outputs": [
    {
     "name": "stdout",
     "output_type": "stream",
     "text": [
      "10 9 8 7 6 5 4 3 2 1 0 "
     ]
    }
   ],
   "source": [
    "L = [0, 1, 2, 3, 4, 5, 6, 7, 8, 9, 10]\n",
    "for i in range(len(L)):\n",
    "    print(L[-i-1], end = \" \")\n",
    "    "
   ]
  },
  {
   "cell_type": "code",
   "execution_count": 12,
   "id": "debf3aa3",
   "metadata": {},
   "outputs": [
    {
     "name": "stdout",
     "output_type": "stream",
     "text": [
      "10\n",
      "9\n",
      "8\n",
      "7\n",
      "6\n",
      "5\n",
      "4\n",
      "3\n",
      "2\n",
      "1\n",
      "0\n"
     ]
    }
   ],
   "source": [
    "# OR\n",
    "L = L[::-1]\n",
    "for i in range(len(L)):\n",
    "    print(L[i])"
   ]
  },
  {
   "cell_type": "markdown",
   "id": "2f95bea2",
   "metadata": {},
   "source": [
    "### 4) Your task is to count the number of different words in this text\n",
    "\t\n",
    "\tstring = \"\"\"\n",
    "\tChatGPT has created this text to provide tips on creating interesting paragraphs. \n",
    "\tFirst, start with a clear topic sentence that introduces the main idea. \n",
    "\tThen, support the topic sentence with specific details, examples, and evidence.\n",
    "\tVary the sentence length and structure to keep the reader engaged.\n",
    "\tFinally, end with a strong concluding sentence that summarizes the main points.\n",
    "\tRemember, practice makes perfect!\n",
    "\t\"\"\""
   ]
  },
  {
   "cell_type": "code",
   "execution_count": 22,
   "id": "3b4b4efd",
   "metadata": {},
   "outputs": [
    {
     "name": "stdout",
     "output_type": "stream",
     "text": [
      "Number of different words: 47\n"
     ]
    }
   ],
   "source": [
    "def count_unique_words(text):\n",
    "    text = text.lower()\n",
    "    words = text.replace('\\n', ' ').replace('.', '').replace('!', '').replace(',', '').split()\n",
    "    unique_words = set(words)\n",
    "    return len(unique_words)\n",
    "\n",
    "string = \"\"\"\n",
    "ChatGPT has created this text to provide tips on creating interesting paragraphs. \n",
    "First, start with a clear topic sentence that introduces the main idea. \n",
    "Then, support the topic sentence with specific details, examples, and evidence.\n",
    "Vary the sentence length and structure to keep the reader engaged.\n",
    "Finally, end with a strong concluding sentence that summarizes the main points.\n",
    "Remember, practice makes perfect!\n",
    "\"\"\"\n",
    "\n",
    "unique_word_count = count_unique_words(string)\n",
    "print(\"Number of different words:\", unique_word_count)"
   ]
  },
  {
   "cell_type": "markdown",
   "id": "8e0917f4",
   "metadata": {},
   "source": [
    "### 5) Write a function that takes a word as an argument and returns the number of vowels in the word"
   ]
  },
  {
   "cell_type": "code",
   "execution_count": 10,
   "id": "da68f6f7",
   "metadata": {},
   "outputs": [],
   "source": [
    "def Vowel(A):\n",
    "    count = 0;\n",
    "    for i in range(len(A)):\n",
    "        if A[i] in [\"a\", \"e\", \"i\", \"o\", \"u\",\"A\",\"E\", \"I\", \"O\", \"U\"]:\n",
    "            count = count+1;\n",
    "    return count"
   ]
  },
  {
   "cell_type": "code",
   "execution_count": 11,
   "id": "5b00f417",
   "metadata": {},
   "outputs": [
    {
     "name": "stdout",
     "output_type": "stream",
     "text": [
      "The number of vowels in \"Akasha\" is:  3\n",
      "The number of vowels in \"NYU\" is:  1\n",
      "The number of vowels in \"New York University\" is:  6\n"
     ]
    }
   ],
   "source": [
    "print(\"The number of vowels in \\\"Akasha\\\" is: \", Vowel(\"Akasha\"))\n",
    "print(\"The number of vowels in \\\"NYU\\\" is: \", Vowel(\"NYU\"))\n",
    "print(\"The number of vowels in \\\"New York University\\\" is: \", Vowel(\"New York University\"))"
   ]
  },
  {
   "cell_type": "markdown",
   "id": "f095d9b2",
   "metadata": {},
   "source": [
    "### 6) Iterate through the following list of animals and print each one in all caps. \n",
    "### animals=['tiger', 'elephant', 'monkey', 'zebra', 'panther']"
   ]
  },
  {
   "cell_type": "code",
   "execution_count": 15,
   "id": "7fd13e06",
   "metadata": {},
   "outputs": [
    {
     "name": "stdout",
     "output_type": "stream",
     "text": [
      "TIGER\n",
      "ELEPHANT\n",
      "MONKEY\n",
      "ZEBRA\n",
      "PANTHER\n"
     ]
    }
   ],
   "source": [
    "def Animal_print(A):\n",
    "    for i in range(len(A)):\n",
    "        print(A[i].upper())\n",
    "        \n",
    "animals=['tiger', 'elephant', 'monkey', 'zebra', 'panther']\n",
    "Animal_print(animals)"
   ]
  },
  {
   "cell_type": "markdown",
   "id": "76fcf5ba",
   "metadata": {},
   "source": [
    "### 7) Iterate from 1 to 15, printing whether the number is odd or even"
   ]
  },
  {
   "cell_type": "code",
   "execution_count": 21,
   "id": "aebdfc8c",
   "metadata": {
    "scrolled": true
   },
   "outputs": [
    {
     "name": "stdout",
     "output_type": "stream",
     "text": [
      "1  is Odd\n",
      "2  is Even\n",
      "3  is Odd\n",
      "4  is Even\n",
      "5  is Odd\n",
      "6  is Even\n",
      "7  is Odd\n",
      "8  is Even\n",
      "9  is Odd\n",
      "10  is Even\n",
      "11  is Odd\n",
      "12  is Even\n",
      "13  is Odd\n",
      "14  is Even\n",
      "15  is Odd\n"
     ]
    }
   ],
   "source": [
    "for i in range(1,16):\n",
    "    if (i % 2) == 0:\n",
    "        print(i,\" is Even\")\n",
    "    else:\n",
    "        print(i,\" is Odd\")"
   ]
  },
  {
   "cell_type": "markdown",
   "id": "acaa89ae",
   "metadata": {},
   "source": [
    "### 8) Take two integers as input from user and return the sum"
   ]
  },
  {
   "cell_type": "code",
   "execution_count": 29,
   "id": "3c86683d",
   "metadata": {},
   "outputs": [
    {
     "name": "stdout",
     "output_type": "stream",
     "text": [
      "Enter the first integer 5\n",
      "Enter the second integer 10\n",
      "15\n"
     ]
    }
   ],
   "source": [
    "def add(a, b):\n",
    "    return a+b\n",
    "\n",
    "a = int(input(\"Enter the first integer \"))\n",
    "b = int(input(\"Enter the second integer \"))\n",
    "print(add(a,b))"
   ]
  },
  {
   "cell_type": "markdown",
   "id": "fa4a6150",
   "metadata": {},
   "source": [
    "## Additional Challenges:"
   ]
  },
  {
   "cell_type": "code",
   "execution_count": 3,
   "id": "1f6c409d",
   "metadata": {},
   "outputs": [],
   "source": [
    "# List of movies dictionaries:\n",
    "\n",
    "movies = [\n",
    "{\n",
    "\"name\": \"Usual Suspects\", \n",
    "\"imdb\": 7.0,\n",
    "\"category\": \"Thriller\"\n",
    "},\n",
    "{\n",
    "\"name\": \"Hitman\",\n",
    "\"imdb\": 6.3,\n",
    "\"category\": \"Action\"\n",
    "},\n",
    "{\n",
    "\"name\": \"Dark Knight\",\n",
    "\"imdb\": 9.0,\n",
    "\"category\": \"Adventure\"\n",
    "},\n",
    "{\n",
    "\"name\": \"The Help\",\n",
    "\"imdb\": 8.0,\n",
    "\"category\": \"Drama\"\n",
    "},\n",
    "{\n",
    "\"name\": \"The Choice\",\n",
    "\"imdb\": 6.2,\n",
    "\"category\": \"Romance\"\n",
    "},\n",
    "{\n",
    "\"name\": \"Colonia\",\n",
    "\"imdb\": 7.4,\n",
    "\"category\": \"Romance\"\n",
    "},\n",
    "{\n",
    "\"name\": \"Love\",\n",
    "\"imdb\": 6.0,\n",
    "\"category\": \"Romance\"\n",
    "},\n",
    "{\n",
    "\"name\": \"Bride Wars\",\n",
    "\"imdb\": 5.4,\n",
    "\"category\": \"Romance\"\n",
    "},\n",
    "{\n",
    "\"name\": \"AlphaJet\",\n",
    "\"imdb\": 3.2,\n",
    "\"category\": \"War\"\n",
    "},\n",
    "{\n",
    "\"name\": \"Ringing Crime\",\n",
    "\"imdb\": 4.0,\n",
    "\"category\": \"Crime\"\n",
    "},\n",
    "{\n",
    "\"name\": \"Joking muck\",\n",
    "\"imdb\": 7.2,\n",
    "\"category\": \"Comedy\"\n",
    "},\n",
    "{\n",
    "\"name\": \"What is the name\",\n",
    "\"imdb\": 9.2,\n",
    "\"category\": \"Suspense\"\n",
    "},\n",
    "{\n",
    "\"name\": \"Detective\",\n",
    "\"imdb\": 7.0,\n",
    "\"category\": \"Suspense\"\n",
    "},\n",
    "{\n",
    "\"name\": \"Exam\",\n",
    "\"imdb\": 4.2,\n",
    "\"category\": \"Thriller\"\n",
    "},\n",
    "{\n",
    "\"name\": \"We Two\",\n",
    "\"imdb\": 7.2,\n",
    "\"category\": \"Romance\"\n",
    "}\n",
    "]"
   ]
  },
  {
   "cell_type": "markdown",
   "id": "eadec03e",
   "metadata": {},
   "source": [
    "1. Write a function that takes a movie dictionary from the above list and return true if imdb rating is greater than 5. Additionally, you can also alter the function to return whether the movie has low, medium or high rating\n"
   ]
  },
  {
   "cell_type": "code",
   "execution_count": 35,
   "id": "cb878b2c",
   "metadata": {},
   "outputs": [
    {
     "name": "stdout",
     "output_type": "stream",
     "text": [
      "Usual Suspects  :  True\n",
      "Hitman  :  True\n",
      "Dark Knight  :  True\n",
      "The Help  :  True\n",
      "The Choice  :  True\n",
      "Colonia  :  True\n",
      "Love  :  True\n",
      "Bride Wars  :  True\n",
      "Joking muck  :  True\n",
      "What is the name  :  True\n",
      "Detective  :  True\n",
      "We Two  :  True\n"
     ]
    }
   ],
   "source": [
    "def Above_5_imdb(A):\n",
    "    if A[\"imdb\"]>5:\n",
    "        print(A[\"name\"], \" : \",True )\n",
    "        \n",
    "for i in range(len(movies)):\n",
    "    Above_5_imdb(movies[i])"
   ]
  },
  {
   "cell_type": "code",
   "execution_count": 36,
   "id": "85b6c004",
   "metadata": {},
   "outputs": [
    {
     "name": "stdout",
     "output_type": "stream",
     "text": [
      "Usual Suspects  rating is medium\n",
      "Hitman  rating is medium\n",
      "Dark Knight  rating is high\n",
      "The Help  rating is medium\n",
      "The Choice  rating is medium\n",
      "Colonia  rating is medium\n",
      "Love  rating is medium\n",
      "Bride Wars  rating is medium\n",
      "AlphaJet  rating is low\n",
      "Ringing Crime  rating is low\n",
      "Joking muck  rating is medium\n",
      "What is the name  rating is high\n",
      "Detective  rating is medium\n",
      "Exam  rating is low\n",
      "We Two  rating is medium\n"
     ]
    }
   ],
   "source": [
    "def Above_5_imdb(A):\n",
    "    if A[\"imdb\"]>8:\n",
    "        print(A[\"name\"], \" rating is high\")\n",
    "    if A[\"imdb\"]>5 and A[\"imdb\"]<=8:\n",
    "        print(A[\"name\"], \" rating is medium\")\n",
    "    if A[\"imdb\"]<=5:\n",
    "        print(A[\"name\"], \" rating is low\")\n",
    "        \n",
    "for i in range(len(movies)):\n",
    "    Above_5_imdb(movies[i])"
   ]
  },
  {
   "cell_type": "markdown",
   "id": "9f30214f",
   "metadata": {},
   "source": [
    "2. Write a function that accepts the entire list of movies and a category and returns the average score for that category."
   ]
  },
  {
   "cell_type": "code",
   "execution_count": 5,
   "id": "30b12e61",
   "metadata": {},
   "outputs": [
    {
     "data": {
      "text/plain": [
       "6.44"
      ]
     },
     "execution_count": 5,
     "metadata": {},
     "output_type": "execute_result"
    }
   ],
   "source": [
    "def Avg_rating(A, category):\n",
    "    \n",
    "    try:    \n",
    "        count = 0\n",
    "        imdb_count =0\n",
    "        for i in range(len(A)):\n",
    "            if A[i][\"category\"]==category:\n",
    "                count += 1;\n",
    "                imdb_count += A[i][\"imdb\"]\n",
    "        Average_score = imdb_count/count\n",
    "        return Average_score\n",
    "    \n",
    "    except:\n",
    "        print(\"The category you entered doesn't exit. Please enter another one\")\n",
    "\n",
    "Avg_rating(movies, \"Romance\")"
   ]
  },
  {
   "cell_type": "markdown",
   "id": "8fea50db",
   "metadata": {},
   "source": [
    "3. Write a function that accepts the movie list and a category and returns all the movies belonging to that category. Your function should be able to throw an error if that category does not exist"
   ]
  },
  {
   "cell_type": "code",
   "execution_count": 6,
   "id": "ff25f099",
   "metadata": {},
   "outputs": [
    {
     "name": "stdout",
     "output_type": "stream",
     "text": [
      "The Choice\n",
      "Colonia\n",
      "Love\n",
      "Bride Wars\n",
      "We Two\n"
     ]
    }
   ],
   "source": [
    "def Avg_rating(A, category):\n",
    "    try:\n",
    "        count = 0\n",
    "        for i in range(len(A)):\n",
    "            if A[i][\"category\"]==category:\n",
    "                count += 1\n",
    "\n",
    "        if count == 0:\n",
    "            print(\"The category you entered doesn't exit. Please enter another one\")\n",
    "\n",
    "\n",
    "        for i in range(len(A)):\n",
    "            if A[i][\"category\"]==category:\n",
    "                print(A[i][\"name\"])\n",
    "    except:\n",
    "        print(\"The category you entered doesn't exit. Please enter another one\")\n",
    "\n",
    "Avg_rating(movies, \"Romance\")"
   ]
  },
  {
   "cell_type": "code",
   "execution_count": 7,
   "id": "54000b84",
   "metadata": {},
   "outputs": [
    {
     "name": "stdout",
     "output_type": "stream",
     "text": [
      "The category you entered doesn't exit. Please enter another one\n"
     ]
    }
   ],
   "source": [
    "def Avg_rating(A, category):\n",
    "    try:\n",
    "        count = 0\n",
    "        for i in range(len(A)):\n",
    "            if A[i][\"category\"]==category:\n",
    "                count += 1\n",
    "\n",
    "        if count == 0:\n",
    "            print(\"The category you entered doesn't exit. Please enter another one\")\n",
    "\n",
    "\n",
    "        for i in range(len(A)):\n",
    "            if A[i][\"category\"]==category:\n",
    "                print(A[i][\"name\"])\n",
    "    except:\n",
    "        print(\"The category you entered doesn't exit. Please enter another one\")\n",
    "\n",
    "Avg_rating(movies, \"kjsad\")"
   ]
  }
 ],
 "metadata": {
  "kernelspec": {
   "display_name": "Python 3 (ipykernel)",
   "language": "python",
   "name": "python3"
  },
  "language_info": {
   "codemirror_mode": {
    "name": "ipython",
    "version": 3
   },
   "file_extension": ".py",
   "mimetype": "text/x-python",
   "name": "python",
   "nbconvert_exporter": "python",
   "pygments_lexer": "ipython3",
   "version": "3.9.7"
  }
 },
 "nbformat": 4,
 "nbformat_minor": 5
}
